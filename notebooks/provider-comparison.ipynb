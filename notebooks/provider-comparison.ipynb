{
 "nbformat": 4,
 "nbformat_minor": 2,
 "metadata": {
  "language_info": {
   "name": "python",
   "codemirror_mode": {
    "name": "ipython",
    "version": 3
   },
   "version": "3.7.6-final"
  },
  "orig_nbformat": 2,
  "file_extension": ".py",
  "mimetype": "text/x-python",
  "name": "python",
  "npconvert_exporter": "python",
  "pygments_lexer": "ipython3",
  "version": 3,
  "kernelspec": {
   "name": "buzzfeed_layoffs",
   "display_name": "buzzfeed_layoffs"
  }
 },
 "cells": [
  {
   "cell_type": "markdown",
   "metadata": {},
   "source": [
    "# Potential news data providers\n",
    "[News API](https://newsapi.org/)\n",
    "\n",
    "[GDELT](https://www.gdeltproject.org/)\n",
    "\n",
    "[MediaCloud](https://mediacloud.org/)\n",
    "\n",
    "[Internet Archive](https://archive.org/web/)\n",
    "\n",
    "[Common Crawl](https://commoncrawl.org/)\n",
    "\n",
    "For this exercise, I'll be looking for all New York Times stories published in March. Since NYT has a comprehensive archive API, there's a solid ground truth to reference. "
   ]
  },
  {
   "cell_type": "markdown",
   "metadata": {},
   "source": [
    "# Ground truth data\n",
    "\n",
    "From the [New York Times Archive API](https://developer.nytimes.com/docs/archive-product/1/overview)"
   ]
  },
  {
   "cell_type": "code",
   "execution_count": 1,
   "metadata": {},
   "outputs": [
    {
     "output_type": "execute_result",
     "data": {
      "text/plain": "True"
     },
     "metadata": {},
     "execution_count": 1
    }
   ],
   "source": [
    "import os\n",
    "import requests\n",
    "from dotenv import load_dotenv\n",
    "\n",
    "load_dotenv()"
   ]
  },
  {
   "cell_type": "code",
   "execution_count": 2,
   "metadata": {},
   "outputs": [],
   "source": [
    "r = requests.get(\"https://api.nytimes.com/svc/archive/v1/2020/3.json?api-key={}\".format(os.environ['API_KEY_NYT']))\n",
    "response = r.json()"
   ]
  },
  {
   "cell_type": "code",
   "execution_count": 3,
   "metadata": {},
   "outputs": [],
   "source": [
    "ground_truth = len(response['response']['docs'])"
   ]
  },
  {
   "cell_type": "code",
   "execution_count": 4,
   "metadata": {},
   "outputs": [
    {
     "output_type": "execute_result",
     "data": {
      "text/plain": "7543"
     },
     "metadata": {},
     "execution_count": 4
    }
   ],
   "source": [
    "ground_truth"
   ]
  },
  {
   "cell_type": "markdown",
   "metadata": {},
   "source": [
    "# News API"
   ]
  },
  {
   "cell_type": "code",
   "execution_count": 13,
   "metadata": {},
   "outputs": [],
   "source": [
    "from newsapi import NewsApiClient"
   ]
  },
  {
   "cell_type": "code",
   "execution_count": 10,
   "metadata": {},
   "outputs": [],
   "source": [
    "newsapi = NewsApiClient(api_key=os.environ['API_KEY_NEWS'])\n",
    "all_articles = newsapi.get_everything(domains='Nytimes.com',\n",
    "                                      from_param=\"2020-03-06\",\n",
    "                                      to=\"2020-03-31\")"
   ]
  },
  {
   "cell_type": "code",
   "execution_count": 11,
   "metadata": {},
   "outputs": [
    {
     "output_type": "execute_result",
     "data": {
      "text/plain": "{'status': 'ok', 'totalResults': 0, 'articles': []}"
     },
     "metadata": {},
     "execution_count": 11
    }
   ],
   "source": [
    "all_articles"
   ]
  },
  {
   "cell_type": "markdown",
   "metadata": {},
   "source": [
    "# GDELT"
   ]
  },
  {
   "cell_type": "code",
   "execution_count": 22,
   "metadata": {},
   "outputs": [],
   "source": [
    "import pandas as pd\n",
    "from urllib.request import urlopen\n",
    "from io import BytesIO\n",
    "from zipfile import ZipFile"
   ]
  },
  {
   "cell_type": "code",
   "execution_count": 17,
   "metadata": {},
   "outputs": [],
   "source": [
    "GDELT_URL = 'http://data.gdeltproject.org/events/'\n",
    "date_range = pd.date_range(start=\"2020-03-01\",end=\"2020-03-31\")\n",
    "date_range_encoded = [10000*dt_time.year + 100*dt_time.month + dt_time.day for dt_time in date_range]"
   ]
  },
  {
   "cell_type": "code",
   "execution_count": 20,
   "metadata": {},
   "outputs": [],
   "source": [
    "uris = ['{}.export.CSV.zip'.format(i) for i in date_range_encoded]\n",
    "urls = ['{0}{1}'.format(GDELT_URL, i) for i in uris]"
   ]
  },
  {
   "cell_type": "code",
   "execution_count": 23,
   "metadata": {},
   "outputs": [],
   "source": [
    "df_all = []\n",
    "\n",
    "for i in urls:\n",
    "    page = urlopen(i)\n",
    "    zipfile = ZipFile(BytesIO(page.read()))\n",
    "    filename = zipfile.namelist()[0]\n",
    "    df = pd.read_csv(zipfile.open(filename), sep='\\t', header=None)\n",
    "    nyt_links = df[df[57].str.contains('www.nytimes')][57]\n",
    "    df_filtered = pd.DataFrame({'urls': nyt_links, 'date': filename})\n",
    "    df_all.append(df_filtered)"
   ]
  },
  {
   "cell_type": "code",
   "execution_count": 24,
   "metadata": {},
   "outputs": [],
   "source": [
    "df_all = pd.concat(df_all)"
   ]
  },
  {
   "cell_type": "code",
   "execution_count": 27,
   "metadata": {},
   "outputs": [
    {
     "output_type": "execute_result",
     "data": {
      "text/plain": "                                                     urls                 date\n172     https://www.nytimes.com/2020/02/29/health/fda-...  20200301.export.CSV\n4706    https://www.nytimes.com/2020/02/29/us/politics...  20200301.export.CSV\n6146    https://www.nytimes.com/reuters/2020/02/29/wor...  20200301.export.CSV\n8634    https://www.nytimes.com/2020/02/29/us/politics...  20200301.export.CSV\n10760   https://www.nytimes.com/2020/02/29/opinion/sun...  20200301.export.CSV\n...                                                   ...                  ...\n153609  https://www.nytimes.com/2020/03/31/health/coro...  20200331.export.CSV\n153639  https://www.nytimes.com/aponline/2020/03/31/wo...  20200331.export.CSV\n153700  https://www.nytimes.com/2020/03/31/us/coronavi...  20200331.export.CSV\n154583  https://www.nytimes.com/2020/03/31/us/politics...  20200331.export.CSV\n154594  https://www.nytimes.com/2020/03/31/opinion/cov...  20200331.export.CSV\n\n[2809 rows x 2 columns]",
      "text/html": "<div>\n<style scoped>\n    .dataframe tbody tr th:only-of-type {\n        vertical-align: middle;\n    }\n\n    .dataframe tbody tr th {\n        vertical-align: top;\n    }\n\n    .dataframe thead th {\n        text-align: right;\n    }\n</style>\n<table border=\"1\" class=\"dataframe\">\n  <thead>\n    <tr style=\"text-align: right;\">\n      <th></th>\n      <th>urls</th>\n      <th>date</th>\n    </tr>\n  </thead>\n  <tbody>\n    <tr>\n      <th>172</th>\n      <td>https://www.nytimes.com/2020/02/29/health/fda-...</td>\n      <td>20200301.export.CSV</td>\n    </tr>\n    <tr>\n      <th>4706</th>\n      <td>https://www.nytimes.com/2020/02/29/us/politics...</td>\n      <td>20200301.export.CSV</td>\n    </tr>\n    <tr>\n      <th>6146</th>\n      <td>https://www.nytimes.com/reuters/2020/02/29/wor...</td>\n      <td>20200301.export.CSV</td>\n    </tr>\n    <tr>\n      <th>8634</th>\n      <td>https://www.nytimes.com/2020/02/29/us/politics...</td>\n      <td>20200301.export.CSV</td>\n    </tr>\n    <tr>\n      <th>10760</th>\n      <td>https://www.nytimes.com/2020/02/29/opinion/sun...</td>\n      <td>20200301.export.CSV</td>\n    </tr>\n    <tr>\n      <th>...</th>\n      <td>...</td>\n      <td>...</td>\n    </tr>\n    <tr>\n      <th>153609</th>\n      <td>https://www.nytimes.com/2020/03/31/health/coro...</td>\n      <td>20200331.export.CSV</td>\n    </tr>\n    <tr>\n      <th>153639</th>\n      <td>https://www.nytimes.com/aponline/2020/03/31/wo...</td>\n      <td>20200331.export.CSV</td>\n    </tr>\n    <tr>\n      <th>153700</th>\n      <td>https://www.nytimes.com/2020/03/31/us/coronavi...</td>\n      <td>20200331.export.CSV</td>\n    </tr>\n    <tr>\n      <th>154583</th>\n      <td>https://www.nytimes.com/2020/03/31/us/politics...</td>\n      <td>20200331.export.CSV</td>\n    </tr>\n    <tr>\n      <th>154594</th>\n      <td>https://www.nytimes.com/2020/03/31/opinion/cov...</td>\n      <td>20200331.export.CSV</td>\n    </tr>\n  </tbody>\n</table>\n<p>2809 rows × 2 columns</p>\n</div>"
     },
     "metadata": {},
     "execution_count": 27
    }
   ],
   "source": [
    "df_all.drop_duplicates()"
   ]
  },
  {
   "cell_type": "markdown",
   "metadata": {},
   "source": [
    "# Media Cloud"
   ]
  },
  {
   "cell_type": "code",
   "execution_count": 28,
   "metadata": {},
   "outputs": [],
   "source": [
    "import mediacloud.api"
   ]
  },
  {
   "cell_type": "code",
   "execution_count": 29,
   "metadata": {},
   "outputs": [],
   "source": [
    "mc = mediacloud.api.MediaCloud(os.environ['API_KEY_MC'])"
   ]
  },
  {
   "cell_type": "code",
   "execution_count": 34,
   "metadata": {},
   "outputs": [],
   "source": [
    "stories = mc.storyCount(\"media_id:1\", solr_filter=mc.publish_date_query(datetime.date(2020,3,1), datetime.date(2020,3,31)))"
   ]
  },
  {
   "cell_type": "code",
   "execution_count": 36,
   "metadata": {},
   "outputs": [
    {
     "output_type": "execute_result",
     "data": {
      "text/plain": "{'count': 5943}"
     },
     "metadata": {},
     "execution_count": 36
    }
   ],
   "source": [
    "stories"
   ]
  },
  {
   "cell_type": "markdown",
   "metadata": {},
   "source": [
    "# Internet Archive"
   ]
  },
  {
   "cell_type": "code",
   "execution_count": 102,
   "metadata": {},
   "outputs": [],
   "source": [
    "URL = 'https://web.archive.org/cdx/search/cdx'\n",
    "params = {\"url\": \"nytimes.com\",\n",
    "          \"matchType\": \"domain\",\n",
    "          \"from\": date_range_encoded[0],\n",
    "          \"to\": date_range_encoded[-1],\n",
    "          \"output\": \"json\"}\n",
    "headers = {\"user-agent\": \"Mozilla/5.0 (Windows NT 10.0; Win64; x64) AppleWebKit/537.36 (KHTML, like Gecko) Chrome/80.0.3987.149 Safari/537.36\"}"
   ]
  },
  {
   "cell_type": "code",
   "execution_count": 103,
   "metadata": {},
   "outputs": [],
   "source": [
    "response = requests.get(URL, params=params, headers=headers).json()"
   ]
  },
  {
   "cell_type": "code",
   "execution_count": 104,
   "metadata": {},
   "outputs": [],
   "source": [
    "col_names = response[0]"
   ]
  },
  {
   "cell_type": "code",
   "execution_count": 105,
   "metadata": {},
   "outputs": [],
   "source": [
    "urls = []\n",
    "for i in response[1:]:\n",
    "    urls.append(i[2])"
   ]
  },
  {
   "cell_type": "code",
   "execution_count": 106,
   "metadata": {},
   "outputs": [
    {
     "output_type": "execute_result",
     "data": {
      "text/plain": "94467"
     },
     "metadata": {},
     "execution_count": 106
    }
   ],
   "source": [
    "len(urls)"
   ]
  },
  {
   "cell_type": "code",
   "execution_count": 107,
   "metadata": {},
   "outputs": [],
   "source": [
    "article_urls = [i for i in urls if '2020/03' in i]"
   ]
  },
  {
   "cell_type": "code",
   "execution_count": 108,
   "metadata": {},
   "outputs": [
    {
     "output_type": "execute_result",
     "data": {
      "text/plain": "220"
     },
     "metadata": {},
     "execution_count": 108
    }
   ],
   "source": [
    "len(article_urls)"
   ]
  },
  {
   "cell_type": "markdown",
   "metadata": {},
   "source": [
    "# Common Crawl"
   ]
  },
  {
   "cell_type": "code",
   "execution_count": null,
   "metadata": {},
   "outputs": [],
   "source": []
  }
 ]
}