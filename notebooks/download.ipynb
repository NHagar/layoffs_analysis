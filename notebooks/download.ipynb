{
 "cells": [
  {
   "cell_type": "code",
   "execution_count": 6,
   "metadata": {},
   "outputs": [],
   "source": [
    "import requests\n",
    "from bs4 import BeautifulSoup"
   ]
  },
  {
   "cell_type": "markdown",
   "metadata": {},
   "source": [
    "## Data specifications\n",
    "\n",
    "The BuzzFeed layoffs were [announced](https://techcrunch.com/2019/01/23/buzzfeed-layoffs-2019/) on 2019/01/23. They [started](https://slate.com/technology/2019/01/buzzfeeds-layoffs-wont-kill-it-but-they-have-changed-it.html) on 2019/01/25 and continued into the beginning of the subsequent week, although many did not focus on the BuzzFeed News division.\n",
    "\n",
    "Several considerations:\n",
    "\n",
    "* The staggered nature of the layoffs could affect our ability to get a clean before/after break.\n",
    "* We'll have to parse out which layoffs occurred on the news teams.\n",
    "* Since the layoffs straddled a weekend, we'll want to normalize output to account for fluctuations in publishing volume by day of week."
   ]
  },
  {
   "cell_type": "markdown",
   "metadata": {},
   "source": [
    "## Getting data from GDELT\n",
    "\n",
    "Following the lead of this [notebook](https://nbviewer.jupyter.org/github/JamesPHoughton/Published_Blog_Scripts/blob/master/GDELT%20Wrangler%20-%20Clean.ipynb)"
   ]
  },
  {
   "cell_type": "code",
   "execution_count": 3,
   "metadata": {},
   "outputs": [],
   "source": [
    "GDELT_URL = 'http://data.gdeltproject.org/events/'\n",
    "\n",
    "event_page = requests.get(GDELT_URL)"
   ]
  },
  {
   "cell_type": "code",
   "execution_count": 13,
   "metadata": {},
   "outputs": [
    {
     "data": {
      "text/plain": [
       "[20190112,\n",
       " 20190113,\n",
       " 20190114,\n",
       " 20190115,\n",
       " 20190116,\n",
       " 20190117,\n",
       " 20190118,\n",
       " 20190119,\n",
       " 20190120,\n",
       " 20190121,\n",
       " 20190122,\n",
       " 20190123,\n",
       " 20190124,\n",
       " 20190125,\n",
       " 20190126,\n",
       " 20190127,\n",
       " 20190128,\n",
       " 20190129,\n",
       " 20190130,\n",
       " 20190131,\n",
       " 20190132,\n",
       " 20190133,\n",
       " 20190134,\n",
       " 20190135,\n",
       " 20190136,\n",
       " 20190137,\n",
       " 20190138,\n",
       " 20190139,\n",
       " 20190140,\n",
       " 20190141,\n",
       " 20190142,\n",
       " 20190143,\n",
       " 20190144,\n",
       " 20190145,\n",
       " 20190146,\n",
       " 20190147,\n",
       " 20190148,\n",
       " 20190149,\n",
       " 20190150,\n",
       " 20190151,\n",
       " 20190152,\n",
       " 20190153,\n",
       " 20190154,\n",
       " 20190155,\n",
       " 20190156,\n",
       " 20190157,\n",
       " 20190158,\n",
       " 20190159,\n",
       " 20190160,\n",
       " 20190161,\n",
       " 20190162,\n",
       " 20190163,\n",
       " 20190164,\n",
       " 20190165,\n",
       " 20190166,\n",
       " 20190167,\n",
       " 20190168,\n",
       " 20190169,\n",
       " 20190170,\n",
       " 20190171,\n",
       " 20190172,\n",
       " 20190173,\n",
       " 20190174,\n",
       " 20190175,\n",
       " 20190176,\n",
       " 20190177,\n",
       " 20190178,\n",
       " 20190179,\n",
       " 20190180,\n",
       " 20190181,\n",
       " 20190182,\n",
       " 20190183,\n",
       " 20190184,\n",
       " 20190185,\n",
       " 20190186,\n",
       " 20190187,\n",
       " 20190188,\n",
       " 20190189,\n",
       " 20190190,\n",
       " 20190191,\n",
       " 20190192,\n",
       " 20190193,\n",
       " 20190194,\n",
       " 20190195,\n",
       " 20190196,\n",
       " 20190197,\n",
       " 20190198,\n",
       " 20190199,\n",
       " 20190200,\n",
       " 20190201,\n",
       " 20190202,\n",
       " 20190203,\n",
       " 20190204,\n",
       " 20190205,\n",
       " 20190206,\n",
       " 20190207,\n",
       " 20190208,\n",
       " 20190209,\n",
       " 20190210,\n",
       " 20190211,\n",
       " 20190212,\n",
       " 20190213,\n",
       " 20190214,\n",
       " 20190215,\n",
       " 20190216,\n",
       " 20190217,\n",
       " 20190218,\n",
       " 20190219]"
      ]
     },
     "execution_count": 13,
     "metadata": {},
     "output_type": "execute_result"
    }
   ],
   "source": [
    "list(range(20190112, 20190220))"
   ]
  },
  {
   "cell_type": "code",
   "execution_count": null,
   "metadata": {},
   "outputs": [],
   "source": []
  }
 ],
 "metadata": {
  "kernelspec": {
   "display_name": "buzzfeed_layoffs",
   "language": "python",
   "name": "buzzfeed_layoffs"
  },
  "language_info": {
   "codemirror_mode": {
    "name": "ipython",
    "version": 3
   },
   "file_extension": ".py",
   "mimetype": "text/x-python",
   "name": "python",
   "nbconvert_exporter": "python",
   "pygments_lexer": "ipython3",
   "version": "3.7.6"
  }
 },
 "nbformat": 4,
 "nbformat_minor": 4
}
